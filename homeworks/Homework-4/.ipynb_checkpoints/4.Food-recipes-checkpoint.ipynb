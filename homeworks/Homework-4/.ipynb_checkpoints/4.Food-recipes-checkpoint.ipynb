{
 "metadata": {
  "name": "",
  "signature": "sha256:cd1eb835a89070078c052f6055ea8aa0fa6ba5c2a449da7747c37333fd43720e"
 },
 "nbformat": 3,
 "nbformat_minor": 0,
 "worksheets": [
  {
   "cells": [
    {
     "cell_type": "markdown",
     "metadata": {},
     "source": [
      "(In order to load the stylesheet of this notebook, execute the last code cell in this notebook)"
     ]
    },
    {
     "cell_type": "heading",
     "level": 1,
     "metadata": {},
     "source": [
      "Clustering food recipes from around the world"
     ]
    },
    {
     "cell_type": "markdown",
     "metadata": {},
     "source": [
      "In this assignment, you are expected to hierarchically cluster food recipes. We will be using YY Ahn's dataset \"[Recipe datasets with cuisines](http://yongyeol.com/data/scirep-cuisines-detail.zip)\", which for each recipe provides a list of ingredients and the country of origin, scraped from popular recipe websites. He also provides an [ingredient and compounds dataset](http://yongyeol.com/data/ingr_comp.zip), which you could potentially also make use of, if you find it interesting.\n",
      "\n",
      "You will be graded as follow:\n",
      "* Data parsing and representation **(20 pts)**\n",
      "* Clustering **(30 pts)**\n",
      "* Visualization **(30 pts)**\n",
      "* Short (datailed) analysis of specific cluster **(20 pts)**\n",
      "\n",
      "---------------------------"
     ]
    },
    {
     "cell_type": "code",
     "collapsed": false,
     "input": [
      "from scipy.spatial.distance import pdist\n",
      "from sklearn.cluster import KMeans\n",
      "import scipy.cluster.hierarchy as hr\n",
      "import numpy as np\n",
      "import matplotlib.pyplot as plt\n",
      "import seaborn as sns\n",
      "import random\n",
      "\n",
      "%matplotlib inline"
     ],
     "language": "python",
     "metadata": {},
     "outputs": [],
     "prompt_number": 1
    },
    {
     "cell_type": "code",
     "collapsed": false,
     "input": [
      "# Reads the text files, and organizes data\n",
      "def getrecipeinfo():\n",
      "    # Creates a mapping to organize regions\n",
      "    with open('map.txt', 'r') as f:\n",
      "        mapping_list = f.read().split('\\n')[:-1]\n",
      "        mapping_list = [m.split('\\t') for m in mapping_list]\n",
      "        mapping = {}\n",
      "        for m in mapping_list:\n",
      "            mapping[m[0]] = m[1]\n",
      "    \n",
      "    # Reads recipes from all of the files\n",
      "    files = ['allr_recipes.txt', 'epic_recipes.txt', 'menu_recipes.txt']\n",
      "    recipes_raw = []\n",
      "    \n",
      "    # Iterates through files\n",
      "    for filename in files:\n",
      "        # Opens current file\n",
      "        with open(filename, 'r') as f:\n",
      "            # Splits by line, each recipe is on its own line\n",
      "            filerecipes = f.read().split('\\n')[:-1]\n",
      "            for r in filerecipes:\n",
      "                # Splits the current line by spaces and tabs\n",
      "                recipe = r.split()\n",
      "                \n",
      "                # First element is the region, which is then mapped to the more organized regions\n",
      "                region = mapping[recipe[0]]\n",
      "                # Ingredients are everything that follows\n",
      "                ingredients = recipe[1:]\n",
      "\n",
      "                # Adds the region, ingredients pair to the list of all recipes\n",
      "                recipes_raw.append((region, ingredients))\n",
      "    \n",
      "    # Gets all of the unique regions and ingredients\n",
      "    categories = list(set([r[0] for r in recipes_raw]))\n",
      "    ingredients = list(set([i for r in recipes_raw for i in r[1]]))\n",
      "    \n",
      "\n",
      "    # Represent the recipes as vectors, where index i is 1 if the ingredient is in the recipe\n",
      "    labels = []\n",
      "    recipe_vecs = []\n",
      "    for r in recipes_raw:\n",
      "        r_ingredients = r[1]\n",
      "        # For each possible ingredient, 1 if in the recipe, otherwise 0\n",
      "        recipe_vec =[(i in r_ingredients) for i in ingredients]\n",
      "        \n",
      "        # Add region to labels, and add recipe to list of recipe vectors\n",
      "        labels.append(r[0])\n",
      "        recipe_vecs.append(recipe_vec)\n",
      "\n",
      "    # Converts to numpy array\n",
      "    recipes = np.array(recipe_vecs)\n",
      "    \n",
      "    # Returns labels, recipes, categories, and ingredients\n",
      "    return(labels, recipes, categories, ingredients)"
     ],
     "language": "python",
     "metadata": {},
     "outputs": [],
     "prompt_number": 2
    },
    {
     "cell_type": "code",
     "collapsed": false,
     "input": [
      "# Get info and recipes\n",
      "[labels, recipes, categories, ingredients] = getrecipeinfo()"
     ],
     "language": "python",
     "metadata": {},
     "outputs": [],
     "prompt_number": 3
    },
    {
     "cell_type": "code",
     "collapsed": false,
     "input": [
      "for c in categories:\n",
      "    print(c.ljust(17) + ': ' + str(labels.count(c)).rjust(5))"
     ],
     "language": "python",
     "metadata": {},
     "outputs": [
      {
       "output_type": "stream",
       "stream": "stdout",
       "text": [
        "NorthernEuropean :   250\n",
        "WesternEuropean  :  2659\n",
        "SouthernEuropean :  4180\n",
        "SouthAsian       :   621\n",
        "LatinAmerican    :  2917\n",
        "NorthAmerican    : 41524\n",
        "EastAsian        :  3705\n",
        "EasternEuropean  :   381\n",
        "SoutheastAsian   :   457\n",
        "African          :   352\n",
        "MiddleEastern    :   645\n"
       ]
      }
     ],
     "prompt_number": 4
    },
    {
     "cell_type": "markdown",
     "metadata": {},
     "source": [
      "From here you can see that most of the recipes in the dataset are North American, which is almost 10x the number of the 2nd most common, Southern European. Because of this most of the clustering for the whole dataset would include North American Recipes"
     ]
    },
    {
     "cell_type": "code",
     "collapsed": false,
     "input": [
      "for c in categories:\n",
      "    categ = []\n",
      "    for i in zip(labels, recipes):\n",
      "        if i[0] == c:\n",
      "            categ.append(i[1])\n",
      "    categ_size = len(categ)\n",
      "    categ_summary = np.sum(np.array(categ), axis=0)/float(categ_size)\n",
      "    \n",
      "    categ_ing_acc = zip(ingredients, categ_summary)\n",
      "    categ_sort = sorted(categ_ing_acc, key=lambda x: x[1], reverse=True)\n",
      "    \n",
      "    topk = ''\n",
      "    for i in range(0, 5):\n",
      "        topk += categ_sort[i][0].rjust(13) + str(int(round(100*categ_sort[i][1]))).rjust(3) + '%, '\n",
      "    print(c.ljust(17) + ': ' + topk)"
     ],
     "language": "python",
     "metadata": {},
     "outputs": [
      {
       "output_type": "stream",
       "stream": "stdout",
       "text": [
        "NorthernEuropean :        butter 64%,         wheat 58%,           egg 53%,         cream 29%,          milk 22%, \n",
        "WesternEuropean  :        butter 52%,           egg 49%,         wheat 48%,         onion 27%,          milk 26%, \n",
        "SouthernEuropean :     olive_oil 62%,        garlic 52%,        tomato 38%,         onion 35%,           egg 26%, "
       ]
      },
      {
       "output_type": "stream",
       "stream": "stdout",
       "text": [
        "\n",
        "SouthAsian       :         cumin 60%,      turmeric 51%,         onion 51%,       cayenne 48%,        garlic 48%, \n",
        "LatinAmerican    :       cayenne 67%,         onion 65%,        garlic 60%,        tomato 54%,          corn 30%, "
       ]
      },
      {
       "output_type": "stream",
       "stream": "stdout",
       "text": [
        "\n",
        "NorthAmerican    :        butter 41%,           egg 40%,         wheat 40%,         onion 30%,          milk 26%, "
       ]
      },
      {
       "output_type": "stream",
       "stream": "stdout",
       "text": [
        "\n",
        "EastAsian        :     soy_sauce 53%,        garlic 51%,      scallion 44%,        ginger 38%,       cayenne 37%, \n",
        "EasternEuropean  :        butter 53%,           egg 52%,         wheat 52%,         onion 43%,         cream 29%, "
       ]
      },
      {
       "output_type": "stream",
       "stream": "stdout",
       "text": [
        "\n",
        "SoutheastAsian   :        garlic 62%,          fish 49%,       cayenne 42%, vegetable_oil 39%,          rice 36%, \n",
        "African          :     olive_oil 56%,         onion 54%,         cumin 47%,        garlic 45%,       cayenne 33%, \n",
        "MiddleEastern    :         wheat 42%,     olive_oil 41%,           egg 37%,         onion 34%,        garlic 33%, "
       ]
      },
      {
       "output_type": "stream",
       "stream": "stdout",
       "text": [
        "\n"
       ]
      }
     ],
     "prompt_number": 5
    },
    {
     "cell_type": "markdown",
     "metadata": {},
     "source": [
      "These are the top 5 ingredients for each of the regions, with the proportion of recipes they are in. We can see that North American recipes do not have as much in common compared to other regions, since its top ingredients only occur in 41%, 40%, 40%, 30% and 26% of recipes. In comparison, Latin American recipes have their top ingredients used in 67%, 65%, 60%, 54% and 30%.\n",
      "\n",
      "We also see that butter is the top ingredient for EasternEuropean, NorthAmerican, WesternEuropean, and NorthernEuropean"
     ]
    },
    {
     "cell_type": "heading",
     "level": 2,
     "metadata": {},
     "source": [
      "Clustering a sample of the dataset"
     ]
    },
    {
     "cell_type": "code",
     "collapsed": false,
     "input": [
      "# Get a sample of the data\n",
      "data = zip(labels, recipes)\n",
      "sample = random.sample(data, 5000)\n",
      "sample_labels = np.array([d[0] for d in sample])\n",
      "sample_data = np.array([d[1] for d in sample])"
     ],
     "language": "python",
     "metadata": {},
     "outputs": [],
     "prompt_number": 6
    },
    {
     "cell_type": "markdown",
     "metadata": {},
     "source": [
      "The clustering technique uses jaccard distance, since it is the most natural when comparing the difference between two sets."
     ]
    },
    {
     "cell_type": "code",
     "collapsed": false,
     "input": [
      "sample_distances = pdist(sample_data, 'jaccard')\n",
      "Z = hr.linkage(sample_distances, method='weighted')\n",
      "fig = plt.figure(figsize=(10,10))\n",
      "T = hr.dendrogram(Z, color_threshold=0.95)\n",
      "fig.show()"
     ],
     "language": "python",
     "metadata": {},
     "outputs": [
      {
       "output_type": "stream",
       "stream": "stderr",
       "text": [
        "C:\\Program Files\\Anaconda\\lib\\site-packages\\matplotlib\\figure.py:387: UserWarning: matplotlib is currently using a non-GUI backend, so cannot show the figure\n",
        "  \"matplotlib is currently using a non-GUI backend, \"\n"
       ]
      },
      {
       "metadata": {},
       "output_type": "display_data",
       "png": "[encoded data removed]",
       "text": [
        "<matplotlib.figure.Figure at 0x1b194908>"
       ]
      }
     ],
     "prompt_number": 7
    },
    {
     "cell_type": "code",
     "collapsed": false,
     "input": [
      "# Flattens the clustering\n",
      "clusters = hr.fcluster(Z, .95, 'distance')\n",
      "\n",
      "# Number of clusters\n",
      "num_clusters = len(set(clusters))\n",
      "\n",
      "# Get information for each cluster\n",
      "clusters_info = []\n",
      "for i in range(1, num_clusters+1):\n",
      "    # Cluster Size\n",
      "    clust_size = float(sum(clusters==i))\n",
      "    \n",
      "    # Get labels for all samples in this cluster\n",
      "    clust_all_labels = list(sample_labels[clusters==i])\n",
      "    \n",
      "    # Get Unique labels, and their count\n",
      "    clust_labels_unique = list(set(clust_all_labels))\n",
      "    clust_labels_count = [clust_all_labels.count(l) for l in clust_labels_unique]\n",
      "    \n",
      "    # Sort label, count pairs\n",
      "    clust_labels_pairs = zip(clust_labels_unique, clust_labels_count)\n",
      "    clust_labels_pairs = sorted(clust_labels_pairs, key= lambda x: x[1], reverse=True)\n",
      "    \n",
      "    # Filter so that only regions that make up > 5% of the recipes in this cluster are kept\n",
      "    clust_labels_filt = [[l, round(c/clust_size, 2)] for [l, c] in clust_labels_pairs if c/clust_size > .15]\n",
      "    \n",
      "    # Gets the ingredient data for this cluster\n",
      "    clust_data = sample_data[clusters==i]\n",
      "    \n",
      "    # Calculates the number of recipes that use each ingredient for this cluster\n",
      "    clust_total_ing = np.sum(clust_data, axis=0)\n",
      "    \n",
      "    # Gets the ingredient, and ratio of use for this cluster\n",
      "    clust_ings = []\n",
      "    for ing, num in zip(ingredients, clust_total_ing):\n",
      "        if num > 0:\n",
      "            clust_ings.append((ing, num/clust_size))\n",
      "            \n",
      "    # Sort ingredients by most used\n",
      "    clust_ings = sorted(clust_ings, key=lambda x: x[1], reverse=True)\n",
      "    \n",
      "    # Gets Major Ingredients\n",
      "    # Keeps ingredients that are used by more than 40% of the recipes\n",
      "    major_ings = [ing for ing, num in clust_ings if num >= .4]\n",
      "    \n",
      "    # Add info of cluster size, its major ingredients, and regions\n",
      "    clusters_info.append((clust_size, major_ings, clust_labels_filt))"
     ],
     "language": "python",
     "metadata": {},
     "outputs": [],
     "prompt_number": 8
    },
    {
     "cell_type": "code",
     "collapsed": false,
     "input": [
      "print('Number of Clusters: ' + str(num_clusters))\n",
      "\n",
      "# Sort clusters in decending order\n",
      "clusters_info = sorted(clusters_info, key=lambda x: x[0], reverse=True)\n",
      "\n",
      "print('Information of Top Clusters: \\n')\n",
      "# Prints the info about the major ingredients for top clusters\n",
      "count = 0\n",
      "for size, ings, c_labels_filt in clusters_info:\n",
      "    count += 1\n",
      "    if count == 10:\n",
      "        break\n",
      "    \n",
      "    ingredients_str = ''\n",
      "    for i in ings:\n",
      "        ingredients_str += i + ', '\n",
      "    \n",
      "    label_str = ''\n",
      "    for lab, num in c_labels_filt:\n",
      "        label_str += lab + '(' + str(num) + '), '\n",
      "    print('Ingredients: ' + ingredients_str)\n",
      "    print('Major Regions: ' + label_str + ' Size = ' + str(int(size)).rjust(3) +'\\n' )"
     ],
     "language": "python",
     "metadata": {},
     "outputs": [
      {
       "output_type": "stream",
       "stream": "stdout",
       "text": [
        "Number of Clusters: 36\n",
        "Information of Top Clusters: \n",
        "\n",
        "Ingredients: wheat, egg, butter, milk, vanilla, \n",
        "Major Regions: NorthAmerican(0.84),  Size = 1567\n",
        "\n",
        "Ingredients: garlic, onion, tomato, olive_oil, \n",
        "Major Regions: NorthAmerican(0.57), SouthernEuropean(0.19),  Size = 972\n",
        "\n",
        "Ingredients: onion, butter, garlic, \n",
        "Major Regions: NorthAmerican(0.75),  Size = 827\n",
        "\n",
        "Ingredients: vegetable_oil, garlic, \n",
        "Major Regions: NorthAmerican(0.6), EastAsian(0.2),  Size = 636\n",
        "\n",
        "Ingredients: cayenne, cheddar_cheese, onion, \n",
        "Major Regions: NorthAmerican(0.7), LatinAmerican(0.23),  Size = 139\n",
        "\n",
        "Ingredients: milk, vanilla, cream, \n",
        "Major Regions: NorthAmerican(0.89),  Size =  99\n",
        "\n",
        "Ingredients: scallion, garlic, cayenne, sesame_oil, soy_sauce, rice, soybean, \n",
        "Major Regions: EastAsian(0.92),  Size =  89\n",
        "\n",
        "Ingredients: vinegar, olive_oil, black_pepper, \n",
        "Major Regions: NorthAmerican(0.67),  Size =  85\n",
        "\n",
        "Ingredients: cocoa, milk, \n",
        "Major Regions: NorthAmerican(0.96),  Size =  84\n",
        "\n"
       ]
      }
     ],
     "prompt_number": 9
    },
    {
     "cell_type": "markdown",
     "metadata": {},
     "source": [
      "We can see that most of the top clusters are dominated by North America, which is probably due to the fact that North American recipes are much more common than all other recipes.\n",
      "\n",
      "There is a large cluster dominated by another region, which is one cluster that is mostly East Asian, which has scallion, garlic, cayenne, sesame_oil, soy_sauce, rice, and soybean as major ingredients. These ingredients are very typical of asian cuisine, with its unique style. Even with the commonness of North American recipes, East Asian recipes are different enough to have a cluster made mostly of them.\n",
      "\n",
      "It seems that these clusters are representative of different recipe styles, Since each of the clusters has their own major ingredients which define different styles. For example milk, vanilla, and cream, is indicative of a creamy dessert. On the other hand garlic, onion, tomato, and olive_oil, is reminiscent of Italian food, which can also be seen from the fact that aside form North American, the other major region for this cluster is Souther European."
     ]
    },
    {
     "cell_type": "heading",
     "level": 2,
     "metadata": {},
     "source": [
      "Clustering an equal sampling of regions"
     ]
    },
    {
     "cell_type": "markdown",
     "metadata": {},
     "source": [
      "To make a more even clustering that is not overwhelmed by North American Recipes, we can cluster recipes where a number of recipes from each region is in the sample. This would allow us to see different styles from different regions more clearly."
     ]
    },
    {
     "cell_type": "code",
     "collapsed": false,
     "input": [
      "data = zip(labels, recipes)\n",
      "sample = []\n",
      "\n",
      "# Choose a number of recipes from each category\n",
      "for c in categories:\n",
      "    c_data = [d for d in data if d[0]==c]\n",
      "    c_sample = random.sample(c_data, 200)\n",
      "    sample.extend(c_sample)\n",
      "\n",
      "sample_labels = np.array([d[0] for d in sample])\n",
      "sample_data = np.array([d[1] for d in sample])"
     ],
     "language": "python",
     "metadata": {},
     "outputs": [],
     "prompt_number": 10
    },
    {
     "cell_type": "markdown",
     "metadata": {},
     "source": [
      "The clustering technique uses jaccard distance, since it is the most natural when comparing the difference between two sets."
     ]
    },
    {
     "cell_type": "code",
     "collapsed": false,
     "input": [
      "sample_distances = pdist(sample_data, 'jaccard')\n",
      "Z = hr.linkage(sample_distances, method='weighted')\n",
      "fig = plt.figure(figsize=(10,10))\n",
      "T = hr.dendrogram(Z, color_threshold=0.95)\n",
      "fig.show()"
     ],
     "language": "python",
     "metadata": {},
     "outputs": [
      {
       "metadata": {},
       "output_type": "display_data",
       "png": "[encoded data removed]",
       "text": [
        "<matplotlib.figure.Figure at 0x1b1949e8>"
       ]
      }
     ],
     "prompt_number": 11
    },
    {
     "cell_type": "code",
     "collapsed": false,
     "input": [
      "# Flattens the clustering\n",
      "clusters = hr.fcluster(Z, .95, 'distance')\n",
      "\n",
      "# Number of clusters\n",
      "num_clusters = len(set(clusters))\n",
      "\n",
      "# Get information for each cluster\n",
      "clusters_info = []\n",
      "for i in range(1, num_clusters+1):\n",
      "    # Cluster Size\n",
      "    clust_size = float(sum(clusters==i))\n",
      "    \n",
      "    # Get labels for all samples in this cluster\n",
      "    clust_all_labels = list(sample_labels[clusters==i])\n",
      "    \n",
      "    # Get Unique labels, and their count\n",
      "    clust_labels_unique = list(set(clust_all_labels))\n",
      "    clust_labels_count = [clust_all_labels.count(l) for l in clust_labels_unique]\n",
      "    \n",
      "    # Sort label, count pairs\n",
      "    clust_labels_pairs = zip(clust_labels_unique, clust_labels_count)\n",
      "    clust_labels_pairs = sorted(clust_labels_pairs, key= lambda x: x[1], reverse=True)\n",
      "    \n",
      "    # Filter so that only regions that make up > 5% of the recipes in this cluster are kept\n",
      "    clust_labels_filt = [[l, round(c/clust_size, 2)] for [l, c] in clust_labels_pairs if c/clust_size > .15]\n",
      "    \n",
      "    # Gets the ingredient data for this cluster\n",
      "    clust_data = sample_data[clusters==i]\n",
      "    \n",
      "    # Calculates the number of recipes that use each ingredient for this cluster\n",
      "    clust_total_ing = np.sum(clust_data, axis=0)\n",
      "    \n",
      "    # Gets the ingredient, and ratio of use for this cluster\n",
      "    clust_ings = []\n",
      "    for ing, num in zip(ingredients, clust_total_ing):\n",
      "        if num > 0:\n",
      "            clust_ings.append((ing, num/clust_size))\n",
      "            \n",
      "    # Sort ingredients by most used\n",
      "    clust_ings = sorted(clust_ings, key=lambda x: x[1], reverse=True)\n",
      "    \n",
      "    # Gets Major Ingredients\n",
      "    # Keeps ingredients that are used by more than 40% of the recipes\n",
      "    major_ings = [ing for ing, num in clust_ings if num >= .4]\n",
      "    \n",
      "    # Add info of cluster size, its major ingredients, and regions\n",
      "    clusters_info.append((clust_size, major_ings, clust_labels_filt))"
     ],
     "language": "python",
     "metadata": {},
     "outputs": [],
     "prompt_number": 12
    },
    {
     "cell_type": "code",
     "collapsed": false,
     "input": [
      "print('Number of Clusters: ' + str(num_clusters))\n",
      "\n",
      "# Sort clusters in decending order\n",
      "clusters_info = sorted(clusters_info, key=lambda x: x[0], reverse=True)\n",
      "\n",
      "print('Information of Top Clusters: \\n')\n",
      "# Prints the info about the major ingredients for top clusters\n",
      "count = 0\n",
      "for size, ings, c_labels_filt in clusters_info:\n",
      "    count += 1\n",
      "    if count == 10:\n",
      "        break\n",
      "    \n",
      "    ingredients_str = ''\n",
      "    for i in ings:\n",
      "        ingredients_str += i + ', '\n",
      "    \n",
      "    label_str = ''\n",
      "    for lab, num in c_labels_filt:\n",
      "        label_str += lab + '(' + str(num) + '), '\n",
      "    print('Ingredients: ' + ingredients_str)\n",
      "    print('Major Regions: ' + label_str + ' Size = ' + str(int(size)).rjust(3) +'\\n' )"
     ],
     "language": "python",
     "metadata": {},
     "outputs": [
      {
       "output_type": "stream",
       "stream": "stdout",
       "text": [
        "Number of Clusters: 28\n",
        "Information of Top Clusters: \n",
        "\n",
        "Ingredients: garlic, onion, olive_oil, tomato, \n",
        "Major Regions: African(0.16), LatinAmerican(0.16),  Size = 897\n",
        "\n",
        "Ingredients: wheat, egg, butter, vanilla, milk, \n",
        "Major Regions: NorthernEuropean(0.24), WesternEuropean(0.19), NorthAmerican(0.16),  Size = 404\n",
        "\n",
        "Ingredients: butter, \n",
        "Major Regions: NorthAmerican(0.18), NorthernEuropean(0.17),  Size = 199\n",
        "\n",
        "Ingredients: vegetable_oil, egg, \n",
        "Major Regions: EasternEuropean(0.16), EastAsian(0.15),  Size = 172\n",
        "\n",
        "Ingredients: soy_sauce, garlic, scallion, sesame_oil, ginger, \n",
        "Major Regions: EastAsian(0.76), SoutheastAsian(0.18),  Size = 158\n",
        "\n",
        "Ingredients: vinegar, onion, mustard, \n",
        "Major Regions: NorthernEuropean(0.27), WesternEuropean(0.18), EasternEuropean(0.16),  Size =  83\n",
        "\n",
        "Ingredients: black_pepper, garlic, cumin, coriander, \n",
        "Major Regions: African(0.26), SouthAsian(0.22),  Size =  65\n",
        "\n",
        "Ingredients: cayenne, \n",
        "Major Regions: SoutheastAsian(0.31), MiddleEastern(0.16), SouthAsian(0.16), LatinAmerican(0.16),  Size =  62\n",
        "\n",
        "Ingredients: cream, wheat, butter, onion, milk, \n",
        "Major Regions: WesternEuropean(0.26), NorthernEuropean(0.21), EasternEuropean(0.17), NorthAmerican(0.15),  Size =  53\n",
        "\n"
       ]
      }
     ],
     "prompt_number": 13
    },
    {
     "cell_type": "markdown",
     "metadata": {},
     "source": [
      "We now can see the commanalities between different regions, now that each region makes up an equal portion of the data. The most common cluster which contains garlic, onion, olive_oil, and tomato, seems to be common among a lot of regions due to the fact that its most common regions, Africa and Latin America only make up 16% of the cluster each.\n",
      "\n",
      "Again there is the EastAsian and SoutheastAsian cluster with soy_sauce, garlic, scallion, sesame_oil, and ginger.\n",
      "\n",
      "There also seems to be similarity between NorthernEuropean, WesternEuropean, EasternEuropean and NorthAmerican, since everytime one of them shows up as a major part of a cluster, at least one other is also present as a major part of that cluster.\n",
      "\n",
      "Cayanne also seems to be an interesting ingredient, since it essentially has its own cluster. This cluster also contains SoutheastAsian, MiddleEastern, SouthAsian, and LatinAmerican, which are all very different regions, with their own style. It seems like an interesting coincidence that all of these regions seem to include cayenne in some of their recipes."
     ]
    },
    {
     "cell_type": "heading",
     "level": 2,
     "metadata": {},
     "source": [
      "Looking at Northern European Recipes"
     ]
    },
    {
     "cell_type": "code",
     "collapsed": false,
     "input": [
      "NE = []\n",
      "for i in zip(labels, recipes):\n",
      "    if i[0] == 'NorthernEuropean':\n",
      "        NE.append(i[1])\n",
      "NE = np.array(NE)"
     ],
     "language": "python",
     "metadata": {},
     "outputs": [],
     "prompt_number": 14
    },
    {
     "cell_type": "code",
     "collapsed": false,
     "input": [
      "distances = pdist(NE, 'jaccard')\n",
      "Z = hr.linkage(distances, method='weighted')\n",
      "fig = plt.figure(figsize=(10,10))\n",
      "T = hr.dendrogram(Z, color_threshold=0.9)\n",
      "fig.show()"
     ],
     "language": "python",
     "metadata": {},
     "outputs": [
      {
       "metadata": {},
       "output_type": "display_data",
       "png": "[encoded data removed]",
       "text": [
        "<matplotlib.figure.Figure at 0x2a56c048>"
       ]
      }
     ],
     "prompt_number": 15
    },
    {
     "cell_type": "code",
     "collapsed": false,
     "input": [
      "ck = hr.fcluster(Z, .9, 'distance')\n",
      "num_clusters = len(set(ck))\n",
      "\n",
      "clusters_info = []\n",
      "for i in range(1, num_clusters+1):\n",
      "    data_size = float(sum(ck==i))\n",
      "    data = NE[ck==i]\n",
      "    data_ing = np.sum(data, axis=0)\n",
      "    ings = []\n",
      "    for j in zip(ingredients, data_ing):\n",
      "        if j[1] > 0:\n",
      "            ings.append((j[0], j[1]/data_size))\n",
      "    ings = sorted(ings, key=lambda x: x[1], reverse=True)\n",
      "    major_ings = [ing[0] for ing in ings if ing[1] >= .5]\n",
      "    \n",
      "    clusters_info.append((data_size, major_ings))\n",
      "    "
     ],
     "language": "python",
     "metadata": {},
     "outputs": [],
     "prompt_number": 20
    },
    {
     "cell_type": "code",
     "collapsed": false,
     "input": [
      "print('Number of Clusters: ' + str(num_clusters))\n",
      "print('Total Recipes: ' + str(NE.shape[0]) + '\\n')\n",
      "\n",
      "clusters_info = sorted(clusters_info, key=lambda x: x[0], reverse=True)\n",
      "for num, ings in clusters_info:\n",
      "    ings_str = ''\n",
      "    for i in ings:\n",
      "        ings_str += i + ', '\n",
      "    print('Size=' + str(int(num)) + ' : ' + ings_str)"
     ],
     "language": "python",
     "metadata": {},
     "outputs": [
      {
       "output_type": "stream",
       "stream": "stdout",
       "text": [
        "Number of Clusters: 17\n",
        "Total Recipes: 250\n",
        "\n",
        "Size=139 : wheat, butter, egg, \n",
        "Size=22 : vinegar, dill, mustard, black_pepper, \n",
        "Size=19 : butter, potato, black_pepper, \n",
        "Size=14 : egg, onion, beef, wheat, butter, cream, \n",
        "Size=13 : butter, \n",
        "Size=11 : egg, vegetable_oil, lemon_juice, \n",
        "Size=7 : cinnamon, raisin, almond, port_wine, red_wine, orange, \n",
        "Size=5 : cabbage, vinegar, apple, butter, \n",
        "Size=5 : coriander, turmeric, cumin, fenugreek, pepper, cream, butter, vegetable_oil, \n",
        "Size=4 : beet, vinegar, pepper, \n",
        "Size=3 : apple, cream, \n",
        "Size=2 : coffee, vanilla, butter, cocoa, oat, coconut, pear, \n",
        "Size=2 : yogurt, vanilla, cinnamon, blueberry, bitter_orange, orange, strawberry, cream, lemon, brandy, \n",
        "Size=1 : rhubarb, starch, berry, \n",
        "Size=1 : smoke, chicken_broth, ham, onion, pea, pepper, \n",
        "Size=1 : milk, tea, egg, bread, rye_flour, cheese, ham, \n",
        "Size=1 : lingonberry, \n"
       ]
      }
     ],
     "prompt_number": 35
    },
    {
     "cell_type": "markdown",
     "metadata": {},
     "source": [
      "For Northern European recipes, we see that there is a large cluster that contains wheat, butter, and egg, which is a cluster larger than 50% of the number of recipes. These ingredients are also found in many of the other clusters from NorthernEurope. These then seem to be the staple ingredients of Northern European recipes\n",
      "\n",
      "The second largest cluster is made up mostly of vinegar, dill, mustard, and black_pepper. We see that all of these, aside from black_pepper have a very sharp acidic flavor. This is more evidence about the ability of the algorithm to cluster recipes, since these ingredients seem to have the same strong flavors, and therefore would be used in similar types of recipes. the presence of black_pepper may just indicate that it goes well with this type of strong flavor.\n",
      "\n",
      "Many of the clusters here past the first two are too small to make conclusions from."
     ]
    },
    {
     "cell_type": "markdown",
     "metadata": {},
     "source": [
      "### References"
     ]
    },
    {
     "cell_type": "markdown",
     "metadata": {},
     "source": [
      "1. Ahn, Yong-Yeol, et al. \"Flavor network and the principles of food pairing.\" Scientific reports 1 (2011)."
     ]
    },
    {
     "cell_type": "code",
     "collapsed": false,
     "input": [
      "# Code for setting the style of the notebook\n",
      "from IPython.core.display import HTML\n",
      "def css_styling():\n",
      "    styles = open(\"../../theme/custom.css\", \"r\").read()\n",
      "    return HTML(styles)\n",
      "css_styling()"
     ],
     "language": "python",
     "metadata": {},
     "outputs": [
      {
       "html": [
        "<link href='http://fonts.googleapis.com/css?family=EB+Garamond' rel='stylesheet' type='text/css'>\n",
        "<link href='http://fonts.googleapis.com/css?family=Alegreya+Sans:100,300,400,500,700,800,900,100italic,300italic,400italic,500italic,700italic,800italic,900italic' rel='stylesheet' type='text/css'>\n",
        "<link href='http://fonts.googleapis.com/css?family=Source+Code+Pro:300,400' rel='stylesheet' type='text/css'>\n",
        "<style>\n",
        "    @font-face {\n",
        "        font-family: \"Computer Modern\";\n",
        "        src: url('http://mirrors.ctan.org/fonts/cm-unicode/fonts/otf/cmunss.otf');\n",
        "    }\n",
        "    .code_cell {\n",
        "        width: 105ex !important ;\n",
        "        margin-bottom: 15px !important;\n",
        "    }\n",
        "    div.cell {\n",
        "        margin-left: auto;\n",
        "        margin-right: auto;\n",
        "        width: 70%;\n",
        "    }    \n",
        "    div.cell.selected {\n",
        "        border: thin rgba(171, 171, 171, 0.5) dashed;\n",
        "    }\n",
        "    h1 {\n",
        "        font-family: 'Alegreya Sans', sans-serif;\n",
        "    }\n",
        "    h2 {\n",
        "        font-family: 'EB Garamond', serif;\n",
        "    }\n",
        "    h3 {\n",
        "        font-family: 'EB Garamond', serif;\n",
        "        margin-top:12px;\n",
        "        margin-bottom: 3px;\n",
        "    }\n",
        "    h4 {\n",
        "        font-family: 'EB Garamond', serif;\n",
        "    }\n",
        "    h5 {\n",
        "        font-family: 'Alegreya Sans', sans-serif;\n",
        "    }\n",
        "    div.text_cell_render {\n",
        "        font-family: 'EB Garamond',Computer Modern, \"Helvetica Neue\", Arial, Helvetica, Geneva, sans-serif;\n",
        "        line-height: 145%;\n",
        "        font-size: 140%;\n",
        "    }\n",
        "    div.input_area {\n",
        "        border-color: rgba(0,0,0,0.10) !important;\n",
        "        background: #fafafa;\n",
        "    }\n",
        "    .CodeMirror {\n",
        "            font-family: \"Source Code Pro\";\n",
        "            font-size: 90%;\n",
        "    }\n",
        "    .prompt {\n",
        "        display: None;\n",
        "    }\n",
        "    .output {\n",
        "        padding-left: 50px;\n",
        "        padding-top: 5px;\n",
        "    }\n",
        "    .output_wrapper {\n",
        "        padding-left: 5px;\n",
        "        padding-top: inherit;\n",
        "    }\n",
        "    div.output_scroll {\n",
        "        width: inherit;\n",
        "    }\n",
        "    .inner_cell {\n",
        "        padding-left: 5px;\n",
        "    }\n",
        "    .text_cell_render h1 {\n",
        "        font-weight: 200;\n",
        "        font-size: 50pt;\n",
        "        line-height: 100%;\n",
        "        color:#CD2305;\n",
        "        margin-bottom: 0.5em;\n",
        "        margin-top: 0.5em;\n",
        "        display: block;\n",
        "    }\n",
        "    .text_cell_render h5 {\n",
        "        font-weight: 300;\n",
        "        font-size: 16pt;\n",
        "        color: #CD2305;\n",
        "        font-style: italic;\n",
        "        margin-bottom: .5em;\n",
        "        margin-top: 0.5em;\n",
        "        display: block;\n",
        "    }\n",
        "    .warning {\n",
        "        color: rgb( 240, 20, 20 )\n",
        "        }  \n",
        "</style>\n",
        "<script>\n",
        "    MathJax.Hub.Config({\n",
        "                        TeX: {\n",
        "                           extensions: [\"AMSmath.js\"]\n",
        "                           },\n",
        "                tex2jax: {\n",
        "                    inlineMath: [ ['$','$'], [\"\\\\(\",\"\\\\)\"] ],\n",
        "                    displayMath: [ ['$$','$$'], [\"\\\\[\",\"\\\\]\"] ]\n",
        "                },\n",
        "                displayAlign: 'center', // Change this to 'center' to center equations.\n",
        "                \"HTML-CSS\": {\n",
        "                    styles: {'.MathJax_Display': {\"margin\": 4}}\n",
        "                }\n",
        "        });\n",
        "</script>"
       ],
       "metadata": {},
       "output_type": "pyout",
       "prompt_number": 37,
       "text": [
        "<IPython.core.display.HTML at 0x2834d630>"
       ]
      }
     ],
     "prompt_number": 37
    }
   ],
   "metadata": {}
  }
 ]
}